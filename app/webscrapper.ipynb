{
 "cells": [
  {
   "cell_type": "code",
   "execution_count": 9,
   "metadata": {},
   "outputs": [
    {
     "name": "stdout",
     "output_type": "stream",
     "text": [
      "Requirement already satisfied: selenium in /home/solomoon/Workspace/M2-IOT/projet-scraping/env/lib/python3.8/site-packages (4.1.0)\n",
      "Requirement already satisfied: trio~=0.17 in /home/solomoon/Workspace/M2-IOT/projet-scraping/env/lib/python3.8/site-packages (from selenium) (0.19.0)\n",
      "Requirement already satisfied: urllib3[secure]~=1.26 in /home/solomoon/Workspace/M2-IOT/projet-scraping/env/lib/python3.8/site-packages (from selenium) (1.26.7)\n",
      "Requirement already satisfied: trio-websocket~=0.9 in /home/solomoon/Workspace/M2-IOT/projet-scraping/env/lib/python3.8/site-packages (from selenium) (0.9.2)\n",
      "Requirement already satisfied: outcome in /home/solomoon/Workspace/M2-IOT/projet-scraping/env/lib/python3.8/site-packages (from trio~=0.17->selenium) (1.1.0)\n",
      "Requirement already satisfied: sniffio in /home/solomoon/Workspace/M2-IOT/projet-scraping/env/lib/python3.8/site-packages (from trio~=0.17->selenium) (1.2.0)\n",
      "Requirement already satisfied: async-generator>=1.9 in /home/solomoon/Workspace/M2-IOT/projet-scraping/env/lib/python3.8/site-packages (from trio~=0.17->selenium) (1.10)\n",
      "Requirement already satisfied: sortedcontainers in /home/solomoon/Workspace/M2-IOT/projet-scraping/env/lib/python3.8/site-packages (from trio~=0.17->selenium) (2.4.0)\n",
      "Requirement already satisfied: idna in /home/solomoon/Workspace/M2-IOT/projet-scraping/env/lib/python3.8/site-packages (from trio~=0.17->selenium) (3.3)\n",
      "Requirement already satisfied: attrs>=19.2.0 in /home/solomoon/Workspace/M2-IOT/projet-scraping/env/lib/python3.8/site-packages (from trio~=0.17->selenium) (21.2.0)\n",
      "Requirement already satisfied: wsproto>=0.14 in /home/solomoon/Workspace/M2-IOT/projet-scraping/env/lib/python3.8/site-packages (from trio-websocket~=0.9->selenium) (1.0.0)\n",
      "Requirement already satisfied: pyOpenSSL>=0.14 in /home/solomoon/Workspace/M2-IOT/projet-scraping/env/lib/python3.8/site-packages (from urllib3[secure]~=1.26->selenium) (21.0.0)\n",
      "Requirement already satisfied: cryptography>=1.3.4 in /home/solomoon/Workspace/M2-IOT/projet-scraping/env/lib/python3.8/site-packages (from urllib3[secure]~=1.26->selenium) (36.0.0)\n",
      "Requirement already satisfied: certifi in /home/solomoon/Workspace/M2-IOT/projet-scraping/env/lib/python3.8/site-packages (from urllib3[secure]~=1.26->selenium) (2021.10.8)\n",
      "Requirement already satisfied: cffi>=1.12 in /home/solomoon/Workspace/M2-IOT/projet-scraping/env/lib/python3.8/site-packages (from cryptography>=1.3.4->urllib3[secure]~=1.26->selenium) (1.15.0)\n",
      "Requirement already satisfied: six>=1.5.2 in /home/solomoon/Workspace/M2-IOT/projet-scraping/env/lib/python3.8/site-packages (from pyOpenSSL>=0.14->urllib3[secure]~=1.26->selenium) (1.16.0)\n",
      "Requirement already satisfied: h11<1,>=0.9.0 in /home/solomoon/Workspace/M2-IOT/projet-scraping/env/lib/python3.8/site-packages (from wsproto>=0.14->trio-websocket~=0.9->selenium) (0.12.0)\n",
      "Requirement already satisfied: pycparser in /home/solomoon/Workspace/M2-IOT/projet-scraping/env/lib/python3.8/site-packages (from cffi>=1.12->cryptography>=1.3.4->urllib3[secure]~=1.26->selenium) (2.21)\n",
      "Note: you may need to restart the kernel to use updated packages.\n"
     ]
    }
   ],
   "source": [
    "%pip install selenium"
   ]
  },
  {
   "cell_type": "code",
   "execution_count": 10,
   "metadata": {},
   "outputs": [],
   "source": [
    "import time\n",
    "from selenium import webdriver\n",
    "from selenium.webdriver.common.action_chains import ActionChains\n",
    "from selenium.webdriver.common.by import By\n",
    "from selenium.webdriver.support.ui import WebDriverWait\n",
    "from selenium.webdriver.support import expected_conditions as EC"
   ]
  },
  {
   "cell_type": "code",
   "execution_count": 11,
   "metadata": {},
   "outputs": [],
   "source": [
    "# Opening the website and declaring the variable\n",
    "# Path driver setup is done in command using export PATH\n",
    "driver = webdriver.Chrome()\n",
    "\n",
    "web = 'https://www.amazon.fr/'\n",
    "\n",
    "options = webdriver.ChromeOptions()\n",
    "options.add_argument('--headless')\n",
    "\n",
    "# create a driver object using driver_path as a parameter\n",
    "driver.get(web)"
   ]
  },
  {
   "cell_type": "code",
   "execution_count": 12,
   "metadata": {},
   "outputs": [
    {
     "name": "stderr",
     "output_type": "stream",
     "text": [
      "/tmp/ipykernel_57036/3835606142.py:4: DeprecationWarning: find_element_by_* commands are deprecated. Please use find_element() instead\n",
      "  search_box = driver.find_element_by_id('twotabsearchtextbox')\n",
      "/tmp/ipykernel_57036/3835606142.py:8: DeprecationWarning: find_element_by_* commands are deprecated. Please use find_element() instead\n",
      "  search_button = driver.find_element_by_id('nav-search-submit-button')\n"
     ]
    }
   ],
   "source": [
    "# assign any keyword for searching\n",
    "keyword = \"raspberry pi 4\"\n",
    "# create WebElement for a search box\n",
    "search_box = driver.find_element_by_id('twotabsearchtextbox')\n",
    "# type the keyword in searchbox\n",
    "search_box.send_keys(keyword)\n",
    "# create WebElement for a search button\n",
    "search_button = driver.find_element_by_id('nav-search-submit-button')\n",
    "# click search_button\n",
    "search_button.click()\n",
    "# wait for the page to download\n",
    "driver.implicitly_wait(5)\n",
    "# quit the driver after finishing scraping (please keep this line at the bottom)\n",
    "#driver.quit()"
   ]
  },
  {
   "cell_type": "markdown",
   "metadata": {},
   "source": [
    "##### On veut créer une liste des produits en Amazon pour montrer les prix des raspberry pi , initialization des cases pour chaque produits"
   ]
  },
  {
   "cell_type": "code",
   "execution_count": 13,
   "metadata": {},
   "outputs": [],
   "source": [
    "product_name = []\n",
    "product_asin = []\n",
    "product_price = []\n",
    "product_ratings = []\n",
    "product_ratings_num = []\n",
    "product_link = []"
   ]
  },
  {
   "cell_type": "code",
   "execution_count": 14,
   "metadata": {},
   "outputs": [],
   "source": [
    "items = WebDriverWait(driver,10).until(EC.presence_of_all_elements_located((By.XPATH, '//div[contains(@class, \"s-result-item s-asin\")]')))\n"
   ]
  },
  {
   "cell_type": "code",
   "execution_count": 15,
   "metadata": {},
   "outputs": [
    {
     "name": "stderr",
     "output_type": "stream",
     "text": [
      "/home/solomoon/Workspace/M2-IOT/projet-scraping/env/lib/python3.8/site-packages/selenium/webdriver/remote/webelement.py:426: UserWarning: find_elements_by_* commands are deprecated. Please use find_elements() instead\n",
      "  warnings.warn(\"find_elements_by_* commands are deprecated. Please use find_elements() instead\")\n",
      "/home/solomoon/Workspace/M2-IOT/projet-scraping/env/lib/python3.8/site-packages/selenium/webdriver/remote/webelement.py:393: UserWarning: find_element_by_* commands are deprecated. Please use find_element() instead\n",
      "  warnings.warn(\"find_element_by_* commands are deprecated. Please use find_element() instead\")\n"
     ]
    },
    {
     "name": "stdout",
     "output_type": "stream",
     "text": [
      "['Raspberry Pi 4 Modèle B 4Go avec 32Go RAM Class10 Carte MicroSD, Prend en Charge le Double Affichage 4K/1000Mbps/Bluetooth 5.0, 5V 3A USB-C ON/OFF Alimentation à Découpage et Câble Micro HDMI -RPi 432', 'Vemico Raspberry Pi 4 Modèle B Starter Kit 4G RAM + 32GB Carte Micro SD/Câble Micro HDMI/Boîtier ABS/Lecteur de Carte/USB Type C Adaptateur Secteur/Ventilateur/Dissipateur de Chaleur', '@WENDi Raspberry Pi 4 Model B Starter Kit, Micro SD Card, Heat Sink, Power Supply', 'Flirc Boîtier Raspberry Pi 4 (édition Kodi)', 'Raspberry Pi 4 Modèle B 4 Go ARM-Cortex-A72 4 x 1,50 GHz, 4 Go de RAM, WLAN-AC, Bluetooth 5, LAN, 4 x USB, 2 x Micro HDMI', 'Raspberry Pi 4 Modèle B 4Go avec 32Go RAM Class10 Carte MicroSD, Prend en Charge le Double Affichage 4K/1000Mbps/Bluetooth 5.0, 5V 3A USB-C ON/OFF Alimentation à Découpage et Câble Micro HDMI -RPi 432', 'Raspberry Pi 4 Modèle B 4Go avec 64Go RAM Class10 Carte MicroSD, Prend en Charge le Double Affichage 4K/1000Mbps/Bluetooth 5.0, 5V 3A USB-C ON/OFF Alimentation à Découpage et Câble Micro HDMI -RPi 464', 'TECHNO CRAFT Raspberry pi 4 Modèle B, 4Go RAM+32 Go Classe 10 Carte Micro SD, Alimentation Officiel Raspberry pi4, Coupe Courant on/Off, Boîtier Aluminium Full Armor Noir Moulé Dissipateurs Intégrés.', 'Bqeel Raspberry Pi 4 Modèle B, 4Go RAM+32 Go Classe 10 Micro SD Carte, 5V 3A Alimentation Interrupteur Marche/Arrêt, Ventilateur, Dissipateur, Boîtier Noir, Lecteur de Carte, Câble HDMI …', 'Raspberry Pi 4 B 8 Go 4 x 1,5 GHz, Processeur ARM Cortex-A72', 'Raspberry Pi 4 Modèle B 8 Go RAM Kit, RPi Barebone avec Carte MicroSD 128 Go, Alimentation Type C 5.1V 3A, 2 Câbles Micro HDMI, Ventilateur, Boîtier Rouge, Lecteur de Carte (RPi 8128)', 'GeeekPi Raspberry Pi 4 Modèle B 8GB RAM + 32GB SD Card avec Raspberry Pi 4 Boîtier avec Ventilateur, Alimentation avec Interrupteur on/Off, Câble HDMI prenant en Charge 4K pour Raspberry Pi 4', 'Raspberry Pi 4 Modèle B (4 B) TICTID 4G RAM+32G Classe 10 Micro SD Carte Alimentation Interrupteur Marche/Arrêt Ventilateur Boîtier Noir Dissipateur Câble HDMI Amélioré pour Raspberry Pi 3 Starter Kit', 'Vemico Raspberry Pi 4 Modèle B Starter Kit 4G RAM + 32GB Carte Micro SD/Câble Micro HDMI/Boîtier ABS/Lecteur de Carte/USB Type C Adaptateur Secteur/Ventilateur/Dissipateur de Chaleur', 'NinkBox Raspberry Pi 4 Modèle B, 4G RAM+64G Micro SD Carte, Starter Kit Complet: Alimentation de 5V/3A avec Interrupteur, Ventilateur, Boîtier Noir, Dissipateur, Câble Micro HDMI. Raspberry Pi 4 b+', \"[5V 3.5A 17.5W] Boîtier Raspberry Pi 4 , iUniker Pi 4 Alliage d'aluminium Boîtier avec Alimentation USB-C 3.5A Refroidissement Passif pour Raspberry Pi 4 Modèle B 8GB/4GB/2GB/1GB\", 'GeeekPi Raspberry Pi 4 Modèle B 8 Go de RAM + Carte Micro SD 32 Go avec Boîtier Raspberry Pi 4, Ventilateur, Alimentation avec Interrupteur on/Off, Câble HDMI, Lecteur de Carte pour Raspberry Pi 4', '[5 V 3,5 A 17,5 W] Alimentation Raspberry Pi 4 avec Interrupteur Marche/Arrêt 5V 3.5A Adaptateur Chargeur USB-C pour Raspberry Pi 4 Modèle B 4GB/8GB/2GB/1GB', \"Module de Caméra, Raspberry Pi Caméra Module V2 8M, 1080P Caméra Officielle RPi pour Raspberry Pi 4,3,2 et 1, avec Capteur d'image IMX219PQ CMOS\", 'Raspberry Pi 4B, 2 GB RAM, WiFi & BT', 'Bruphny Boîtier pour Raspberry Pi 4 avec Ventilateur 35mm, Alimentation USB-C 5.1V 3A, 4 Dissipateurs, Câble Micro HDMI 1.8m, Adaptateur HDMI-Micro HDMI, Lecteur de Carte USB pour Raspberry Pi 4 B', 'RetroFlag Boîtier Raspberry Pi 4 avec Ventilateur,Raspberry Pi 4 Boîtier avec Dissipateur de Chaleur,Projets Pi 4 avec Arrêt Sécurisé,Réinitialisation Sécurisée pour Raspberry Pi 4 8GB/4GB/2GB', 'GeeekPi Raspberry Pi 4 Boîtier Métallique avec Ventilateur,Raspberry Pi 4 Boîtier avec Raspberry Pi Low Profile CPU Cooler,Horizontal Ice Tower Refroidisseur(Uniquement pour Pi 4B) (Noir)', 'Geekworm Raspberry Pi 4 X735 V2.5 Power Management & PWM Cooling Fan Expansion Board with Safe Shutdown for Raspberry Pi 4B/ 3B+/ 3B / 2B', 'Geekworm Raspberry Pi 4 Boitier Radiateur avec Double Ventilateur, Raspberry Pi 4B en Alliage Aluminium Cas De Refroidissement Passif pour Raspberry Pi 4 Modèle B Seulement (Pi 4B Case Without Fan)', 'Alimentation Raspberry Pi 4 avec Interrupteur Marche/Arrêt 5.1V 3A Adaptateur Chargeur USB-C pour Raspberry Pi 4 Modèle B 4GB/8GB/2GB/1GB', 'DVOZVO Raspberry Pi 4 B Model B Starter Kit 4GB RAM with 32GB Micro SD Card, Nes4Pi Case, 5V 3A USB-C Power Supply, 2PCS Game Controllers, Heatsinks, Cooling Fan, Micro HDMI Cable and SD Card Reader', 'GeeekPi Raspberry Pi 4 DeskPi Pro Set-Top Box Kit- SSD Support, HDMI Pleine Taille, Alimentation/réinitialisation sécurisée, Refroidisseur, Alimentation, Câble HDMI, 32GB Carte SD (8GB)', 'Freenove Ultimate Starter Kit for Raspberry Pi 4 B 3 B+ 400, 561-Page Detailed Tutorials, Python C Java Scratch Code, 223 Items, 72 Projects, Solderless Breadboard', 'Alimentation Raspberry Pi 4 avec Interrupteur Marche/Arrêt 5.1V 3A Adaptateur Chargeur USB-C pour Raspberry Pi 4 Modèle B 4GB/8GB/2GB/1GB', 'Freenove RFID Starter Kit for Raspberry Pi 4 B 3 B+ 400, 544-Page Detailed Tutorials, Python C Java Scratch Code, 204 Items, 68 Projects, Solderless Breadboard', 'ETEPON pour écran Raspberry Pi 4, Moniteur Tactile Capacitif HDMI de 7 Pouces Écran LCD 1024 * 600 HD', 'GeeekPi Ice Tower CPU Cooling Ventilateur Ice Tower Fan pour Raspberry Pi 4 Model B & Raspberry Pi 3B+ & Raspberry Pi 3 Model B(Transparent)', 'GeeekPi Boîtier pour Raspberry Pi 4 Model B, Raspberry Pi 4 Boîtier avec Ventilateur 40X40X10mm et 4pcs Raspberry Pi 4 Dissipateurs pour Raspberry Pi 4 Model B (Noir)', 'Freenove Ultimate Starter Kit for Raspberry Pi 4 B 3 B+ 400, 561-Page Detailed Tutorials, Python C Java Scratch Code, 223 Items, 72 Projects, Solderless Breadboard', 'Geekworm Raspberry Pi 4 Power Supply, 20W 5V 4A USB-C Power Adapter Charging for Raspberry Pi 4 Model B 8GB / 4GB / 2GB / NASPi / X735 / X708/ X728 / X630', 'GeeekPi Raspberry Pi 4 Boîtier avec Ventilateur,5V 3A USB-C Alimentation,4X Radiateur,1.2M Micro-HDMI Câble,HDMI-Micro HDMI Adaptateur,USB Lecteur pour Raspberry Pi 4 modèle B (RPi Borad Non Incluse)', 'Raspberry Pi 4 Écran Tactile, WIMAXIT 7 Pouces Portable Raspberry Pi IPS Écran 1024X600IPS avec Verre Trempé HDMI USB C Moniteur pour Raspberry Pi 4 3 2 Zero B+ Modèle B Xbox PS4 iOS Windows 7/8/10', 'Bqeel Raspberry Pi 4 Modèle B(4 B), 4Go Starter Kit Upgraded for Raspberry Pi 3 128Go Micro SD Carte, 4K, BT 5.0, 1000Mbps, USB 3.0, Alimentation avec Interrupteur, Ventilateur,Dissipateur', 'Retroflag PiStation Boîtier avec écran LCD, 2 Haut-parleurs stéréo, arrêt sécurisé, réinitialisation sécurisée, Ventilateur Raspberry Pi, radiateurs Raspberry Pi pour Raspberry Pi 4 modèle B', 'GeeekPi Raspberry Pi Cluster Boîtier, Raspberry Pi Rack Boîtier Stackable Boîtier avec Ventilateur 120mm RGB LED 5V pour RPi 4B/3B+/3B/2B/B+ et Jetson Nano (4-Couches)', 'BENSN Etui Raspberry Pi 4, Etui ABS pour Ventilateur Raspberry Pi 4 avec Ventilateur de Refroidissement, Dissipateur de Chaleur Raspberry Pi 4, Modèle B / 4B (Rouge avec Gros Ventilateur)', 'GeeekPi Raspberry Pi 4 Boîtier métallique, Raspberry Pi 4B Boîtier pour Raspberry Pi Low profil refroidisseur,Raspberry Pi ICE tour horizontal refroidisseur (Pi et ventilateur non inclus)', 'Écran Tactile Raspberry Pi de 10,1 Pouces avec Boîtier Arrière - Support 1920x1200 / 1366x768, Type-C, IPS 178° Ultra-Wide View Angle Monitor avec Ventilateur de Refroidissement', 'GeeekPi Raspberry Pi 4 Boîtier avec Ventilateur et Dissipateur, Pi Rack Boîtier 4 Couches Boîtier en Acrylique Stackable Boîtier Cluster Boîtier pour Raspberry Pi 3/2 modèle B', '1873425 Source d’Alimentation', 'GeeekPi Raspberry Pi Low Profile CPU Cooler, Raspberry Pi Horizontal Ice Tower Refroidisseur, RGB Ventilateur avec Raspberry Pi radiateur pour Raspberry Pi 4 modèle B & Raspberry Pi 3B +/3B (Argenté)', 'Bruphny Boîtier pour Raspberry Pi 4 avec Ventilateur 35mm, 4 Dissipateurs, Alimentation USB-C 3A, Câble Micro HDMI 1.8m, Adaptateur HDMI-Micro HDMI, Lecteur de Carte USB pour Raspberry Pi 4 Modèle B', 'iuniker Boîtier pour Raspberry Pi 4, boîtier Pi 4 avec Grand Ventilateur de Refroidissement 3510 et dissipateur de Chaleur, boîtier dissipateur Thermique Raspberry Pi 4', \"GeeekPi Argon One Raspberry Pi 4 Boîtier en aluminium avec ventilateur, dissipateur en aluminium, bouton d'alimentation, prend en charge les jeux rétro, films et musique\", 'GeeekPi Raspberry Pi 4 Armor Lite Dissipateur avec Ventilateur Pwm, Raspberry Pi Aluminium Kit de Refroidissement de Dissipateur Thermique pour Raspberry Pi 4 modèle B', 'Easycargo 4pcs Raspberry Pi 4 Dissipateur Kit, Aluminium + Cuivre + ruban adhésif conductivité thermique, pour refroidissement Raspberry Pi 4 B, 3 B+, Pi 3 B, Pi 2, Pi Model B+', \"GeeekPi Raspberry Pi CM4 Carte de routeur, Module de calcul Raspberry Pi 4 Module de Carte d'extension pour Module de calcul Raspberry Pi Série 4\", 'GeeekPi Raspberry Pi 4 SATA, Raspberry Pi 4 Modèle B 2.5 Pouces SATA HDD/SSD Extension Carte, X825 USB3.0 Bouclier (Seulement pour Raspberry Pi 4B)', 'Geekworm Raspberry Pi 4 SATA X825 V2.0, 2.5 inch SATA HDD/SSD Expansion Board UASP Supported, Compatible with Raspberry Pi 4 (8GB/4GB/2GB)', 'Freenove Basic Starter Kit for Raspberry Pi 4 B 3 B+ 400, 234-Page Detailed Tutorials, Python C Java Scratch Code, 146 Items, 31 Projects, Solderless Breadboard', \"Adeept Darkpaw Kit de Robot araignée quadrupède Bionic pour Raspberry Pi 4/3 modèle B+/B/2B, Robot d'exploration STEM, Suivi OpenCV, Auto-stabilisant, Robot Raspberry Pi avec PDF\", \"GeeekPi Raspberry Pi Pico Basic Starter Kit avec Raspberry Pi Pico breadboard, Header, Module LCD I2C 1602, MAX7219 8 x 32 Matrix RGB 4In1 pour Les débutants et l'ingénieur Logiciel Raspberry Pi\", 'Freenove Super Starter Kit for Raspberry Pi 4 B 3 B+ 400, 411-Page Detailed Tutorials, Python C Java Scratch Code, 164 Items, 54 Projects, Solderless Breadboard', 'SunFounder RasPad 3.0 - Une tablette Raspberry Pi 4B tout-en-un avec une batterie intégrée, un écran tactile de 10,1\" et un son intégré pour les projets IoT/programmation/jeux(Pi non inclus)']\n",
      "['B09HKNNVHD', 'B09GFHYXG9', 'B086BZ16JQ', 'B07WG4DZR6', 'B07TC2BK1X', 'B09HKNNVHD', 'B09HKKP78G', 'B09LSQG7YX', 'B082PSBBMM', 'B0899VXM8F', 'B09HKML99V', 'B09FJH1C7Z', 'B0829TGZN3', 'B09GFHYXG9', 'B07ZV9C6QF', 'B096RLQRV2', 'B09FJFFZ5H', 'B098Q3QXDR', 'B09J8JNLFV', 'B07TD42S27', 'B07WN3CHGH', 'B09GM7FRX9', 'B08CVDRCKT', 'B07NLR49L1', 'B07VD5L1VY', 'B09JZ38SMN', 'B08JLRBM2C', 'B08MDZ3YXC', 'B06W54L7B5', 'B09JZ38SMN', 'B06VTH7L28', 'B07X37HMVB', 'B07V35SXMC', 'B07XCKNM8J', 'B06W54L7B5', 'B09J4V3RYK', 'B07YFVC51C', 'B09373CK49', 'B07ZCZ9Z6J', 'B09M7W2P8W', 'B083FP9JRY', 'B083QJBPDN', 'B085H6GZ69', 'B08P48TYTS', 'B07Z4GRQGH', 'B07TMPC9FG', 'B07ZV1LLWK', 'B07WKD6Z6T', 'B095KD5178', 'B086JXR75B', 'B091L1XKL6', 'B07J5G5ZSW', 'B09HBRG59N', 'B086GST5K6', 'B091JSRQ9C', 'B06WD5FTVD', 'B085CDQ2BB', 'B09CM397YW', 'B06WP7169Y', 'B08T95BQVD']\n",
      "['164,99', '175,99', '35,46', '23,77', '139,90', '164,99', '169,99', '169,99', '183,99', '196,99', '199,99', '204,99', '179,99', '175,99', '184,99', '16,99', '208,99', '11,99', '28,99', 0, '18,99', '29,99', '35,99', '29,89', '14,89', '10,99', '168,99', '229,99', '47,95', '10,99', '36,95', '88,88', '20,99', '11,99', '47,95', '15,99', '18,99', '89,99', '192,99', '89,99', '39,99', '15,99', '17,99', '189,99', '19,99', '14,90', '20,99', '18,99', '5,99', '35,99', '15,99', '3,99', '54,99', '37,99', '37,89', '14,95', '114,99', '36,99', '24,95', '221,99']\n",
      "['4,7 sur 5\\xa0étoiles', '5,0 sur 5\\xa0étoiles', 0, '4,7 sur 5\\xa0étoiles', '4,7 sur 5\\xa0étoiles', '4,7 sur 5\\xa0étoiles', '4,5 sur 5\\xa0étoiles', 0, '4,6 sur 5\\xa0étoiles', '4,7 sur 5\\xa0étoiles', 0, '3,3 sur 5\\xa0étoiles', '4,5 sur 5\\xa0étoiles', '5,0 sur 5\\xa0étoiles', '4,5 sur 5\\xa0étoiles', '4,6 sur 5\\xa0étoiles', '4,5 sur 5\\xa0étoiles', '4,8 sur 5\\xa0étoiles', 0, '4,7 sur 5\\xa0étoiles', '4,4 sur 5\\xa0étoiles', '4,0 sur 5\\xa0étoiles', '4,3 sur 5\\xa0étoiles', '4,6 sur 5\\xa0étoiles', '4,5 sur 5\\xa0étoiles', '5,0 sur 5\\xa0étoiles', '4,2 sur 5\\xa0étoiles', '4,3 sur 5\\xa0étoiles', '4,6 sur 5\\xa0étoiles', '5,0 sur 5\\xa0étoiles', '4,6 sur 5\\xa0étoiles', '3,7 sur 5\\xa0étoiles', '4,7 sur 5\\xa0étoiles', '4,6 sur 5\\xa0étoiles', '4,6 sur 5\\xa0étoiles', 0, '4,3 sur 5\\xa0étoiles', '4,5 sur 5\\xa0étoiles', '4,4 sur 5\\xa0étoiles', 0, '4,5 sur 5\\xa0étoiles', '4,3 sur 5\\xa0étoiles', '4,2 sur 5\\xa0étoiles', '3,8 sur 5\\xa0étoiles', '4,6 sur 5\\xa0étoiles', '4,8 sur 5\\xa0étoiles', '4,7 sur 5\\xa0étoiles', '4,5 sur 5\\xa0étoiles', '3,8 sur 5\\xa0étoiles', '4,6 sur 5\\xa0étoiles', '4,5 sur 5\\xa0étoiles', '4,8 sur 5\\xa0étoiles', 0, '4,4 sur 5\\xa0étoiles', '4,4 sur 5\\xa0étoiles', '4,5 sur 5\\xa0étoiles', '3,9 sur 5\\xa0étoiles', '1,0 sur 5\\xa0étoiles', '4,6 sur 5\\xa0étoiles', '3,8 sur 5\\xa0étoiles']\n",
      "['4', '2', '0', '394', '11\\xa0577', '4', '6', '0', '327', '1\\xa0900', '0', '3', '680', '2', '1\\xa0256', '45', '2', '23', '0', '3\\xa0122', '1\\xa0154', '1', '177', '165', '708', '1', '4', '9', '2\\xa0613', '1', '883', '191', '689', '183', '2\\xa0613', '0', '81', '17', '517', '0', '176', '8', '95', '31', '74', '2\\xa0353', '746', '333', '17', '115', '69', '11', '0', '41', '21', '129', '33', '1', '185', '11']\n",
      "['https://www.amazon.fr/gp/slredirect/picassoRedirect.html/ref=pa_sp_atf_aps_sr_pg1_1?ie=UTF8&adId=A01130519AS8NM3RQTR1&url=%2FRaspberry-Affichage-Bluetooth-Alimentation-D%25C3%25A9coupage%2Fdp%2FB09HKNNVHD%2Fref%3Dsr_1_1_sspa%3F__mk_fr_FR%3D%25C3%2585M%25C3%2585%25C5%25BD%25C3%2595%25C3%2591%26keywords%3Draspberry%2Bpi%2B4%26qid%3D1639565532%26sr%3D8-1-spons%26psc%3D1%26smid%3DA8ALI5M96L1HO&qualifier=1639565532&id=1045359427340679&widgetName=sp_atf', 'https://www.amazon.fr/gp/slredirect/picassoRedirect.html/ref=pa_sp_atf_aps_sr_pg1_1?ie=UTF8&adId=A0990477TAR9G8J8UQ88&url=%2FVemico-Raspberry-Adaptateur-Ventilateur-Dissipateur%2Fdp%2FB09GFHYXG9%2Fref%3Dsr_1_2_sspa%3F__mk_fr_FR%3D%25C3%2585M%25C3%2585%25C5%25BD%25C3%2595%25C3%2591%26keywords%3Draspberry%2Bpi%2B4%26qid%3D1639565532%26sr%3D8-2-spons%26psc%3D1&qualifier=1639565532&id=1045359427340679&widgetName=sp_atf', 'https://www.amazon.fr/gp/slredirect/picassoRedirect.html/ref=pa_sp_atf_aps_sr_pg1_1?ie=UTF8&adId=A0354627ZB9YA6Z6H96S&url=%2FWENDi-Raspberry-Model-Starter-Supply%2Fdp%2FB086BZ16JQ%2Fref%3Dsr_1_3_sspa%3F__mk_fr_FR%3D%25C3%2585M%25C3%2585%25C5%25BD%25C3%2595%25C3%2591%26keywords%3Draspberry%2Bpi%2B4%26qid%3D1639565532%26sr%3D8-3-spons%26psc%3D1&qualifier=1639565532&id=1045359427340679&widgetName=sp_atf', 'https://www.amazon.fr/gp/slredirect/picassoRedirect.html/ref=pa_sp_atf_aps_sr_pg1_1?ie=UTF8&adId=A01640451SKUEFHTLYO9N&url=%2FFlirc-Bo%25C3%25AEtier-pour-Raspberry-Kodi%2Fdp%2FB07WG4DZR6%2Fref%3Dsr_1_4_sspa%3F__mk_fr_FR%3D%25C3%2585M%25C3%2585%25C5%25BD%25C3%2595%25C3%2591%26keywords%3Draspberry%2Bpi%2B4%26qid%3D1639565532%26sr%3D8-4-spons%26psc%3D1&qualifier=1639565532&id=1045359427340679&widgetName=sp_atf', 'https://www.amazon.fr/Raspberry-Mod%C3%A8le-ARM-Cortex-A72-WLAN-AC-Bluetooth/dp/B07TC2BK1X/ref=sr_1_5?__mk_fr_FR=%C3%85M%C3%85%C5%BD%C3%95%C3%91&keywords=raspberry+pi+4&qid=1639565532&sr=8-5', 'https://www.amazon.fr/Raspberry-Affichage-Bluetooth-Alimentation-D%C3%A9coupage/dp/B09HKNNVHD/ref=sr_1_6?__mk_fr_FR=%C3%85M%C3%85%C5%BD%C3%95%C3%91&keywords=raspberry+pi+4&qid=1639565532&sr=8-6', 'https://www.amazon.fr/Raspberry-Affichage-Bluetooth-Alimentation-D%C3%A9coupage/dp/B09HKKP78G/ref=sr_1_7?__mk_fr_FR=%C3%85M%C3%85%C5%BD%C3%95%C3%91&keywords=raspberry+pi+4&qid=1639565532&sr=8-7', 'https://www.amazon.fr/TECHNO-CRAFT-Raspberry-Alimentation-Dissipateurs/dp/B09LSQG7YX/ref=sr_1_8?__mk_fr_FR=%C3%85M%C3%85%C5%BD%C3%95%C3%91&keywords=raspberry+pi+4&qid=1639565532&sr=8-8', 'https://www.amazon.fr/Bqeel-Alimentation-Interrupteur-Ventilateur-Dissipateur/dp/B082PSBBMM/ref=sr_1_9?__mk_fr_FR=%C3%85M%C3%85%C5%BD%C3%95%C3%91&keywords=raspberry+pi+4&qid=1639565532&sr=8-9', 'https://www.amazon.fr/Raspberry-Pi%C2%AE-Go-1-5-GHz/dp/B0899VXM8F/ref=sr_1_10?__mk_fr_FR=%C3%85M%C3%85%C5%BD%C3%95%C3%91&keywords=raspberry+pi+4&qid=1639565532&sr=8-10', 'https://www.amazon.fr/Raspberry-Barebone-MicroSD-Alimentation-Ventilateur/dp/B09HKML99V/ref=sr_1_11?__mk_fr_FR=%C3%85M%C3%85%C5%BD%C3%95%C3%91&keywords=raspberry+pi+4&qid=1639565532&sr=8-11', 'https://www.amazon.fr/GeeekPi-Raspberry-Ventilateur-Alimentation-Interrupteur/dp/B09FJH1C7Z/ref=sr_1_12?__mk_fr_FR=%C3%85M%C3%85%C5%BD%C3%95%C3%91&keywords=raspberry+pi+4&qid=1639565532&sr=8-12', 'https://www.amazon.fr/TICTID-Alimentation-Interrupteur-Ventilateur-Dissipateur/dp/B0829TGZN3/ref=sr_1_13?__mk_fr_FR=%C3%85M%C3%85%C5%BD%C3%95%C3%91&keywords=raspberry+pi+4&qid=1639565532&sr=8-13', 'https://www.amazon.fr/Vemico-Raspberry-Adaptateur-Ventilateur-Dissipateur/dp/B09GFHYXG9/ref=sr_1_14?__mk_fr_FR=%C3%85M%C3%85%C5%BD%C3%95%C3%91&keywords=raspberry+pi+4&qid=1639565532&sr=8-14', 'https://www.amazon.fr/NinkBox-Raspberry-Mod%C3%A8le-Micro-Starter/dp/B07ZV9C6QF/ref=sr_1_15?__mk_fr_FR=%C3%85M%C3%85%C5%BD%C3%95%C3%91&keywords=raspberry+pi+4&qid=1639565532&sr=8-15', 'https://www.amazon.fr/Bo%C3%AEtier-Raspberry-daluminium-Alimentation-Refroidissement/dp/B096RLQRV2/ref=sr_1_16?__mk_fr_FR=%C3%85M%C3%85%C5%BD%C3%95%C3%91&keywords=raspberry+pi+4&qid=1639565532&sr=8-16', 'https://www.amazon.fr/GeeekPi-Raspberry-Ventilateur-Alimentation-Interrupteur/dp/B09FJFFZ5H/ref=sr_1_17?__mk_fr_FR=%C3%85M%C3%85%C5%BD%C3%95%C3%91&keywords=raspberry+pi+4&qid=1639565532&sr=8-17', 'https://www.amazon.fr/Alimentation-Raspberry-Interrupteur-Adaptateur-Chargeur/dp/B098Q3QXDR/ref=sr_1_18?__mk_fr_FR=%C3%85M%C3%85%C5%BD%C3%95%C3%91&keywords=raspberry+pi+4&qid=1639565532&sr=8-18', 'https://www.amazon.fr/Module-Raspberry-Officielle-Capteur-IMX219PQ/dp/B09J8JNLFV/ref=sr_1_19?__mk_fr_FR=%C3%85M%C3%85%C5%BD%C3%95%C3%91&keywords=raspberry+pi+4&qid=1639565532&sr=8-19', 'https://www.amazon.fr/Raspberry-ARM-Cortex-A72-WLAN-AC-Bluetooth-Micro-HDMI/dp/B07TD42S27/ref=sr_1_20?__mk_fr_FR=%C3%85M%C3%85%C5%BD%C3%95%C3%91&keywords=raspberry+pi+4&qid=1639565532&sr=8-20', 'https://www.amazon.fr/Bruphny-Ventilateur-Alimentation-Dissipateurs-Adaptateur/dp/B07WN3CHGH/ref=sr_1_21?__mk_fr_FR=%C3%85M%C3%85%C5%BD%C3%95%C3%91&keywords=raspberry+pi+4&qid=1639565532&sr=8-21', 'https://www.amazon.fr/RetroFlag-Raspberry-Ventilateur-Dissipateur-R%C3%A9initialisation/dp/B09GM7FRX9/ref=sr_1_22?__mk_fr_FR=%C3%85M%C3%85%C5%BD%C3%95%C3%91&keywords=raspberry+pi+4&qid=1639565532&sr=8-22', 'https://www.amazon.fr/GeeekPi-M%C3%A9tallique-Ventilateur-Horizontal-Refroidisseur/dp/B08CVDRCKT/ref=sr_1_23?__mk_fr_FR=%C3%85M%C3%85%C5%BD%C3%95%C3%91&keywords=raspberry+pi+4&qid=1639565532&sr=8-23', 'https://www.amazon.fr/Geekworm-Raspberry-Alimentation-Refroidissement-Extension/dp/B07NLR49L1/ref=sr_1_24?__mk_fr_FR=%C3%85M%C3%85%C5%BD%C3%95%C3%91&keywords=raspberry+pi+4&qid=1639565532&sr=8-24', 'https://www.amazon.fr/Raspberry-Radiateur-Ventilateur-raspberry-Refroidissement/dp/B07VD5L1VY/ref=sr_1_25?__mk_fr_FR=%C3%85M%C3%85%C5%BD%C3%95%C3%91&keywords=raspberry+pi+4&qid=1639565532&sr=8-25', 'https://www.amazon.fr/Alimentation-Raspberry-Interrupteur-Adaptateur-Chargeur/dp/B09JZ38SMN/ref=sr_1_26?__mk_fr_FR=%C3%85M%C3%85%C5%BD%C3%95%C3%91&keywords=raspberry+pi+4&qid=1639565532&sr=8-26', 'https://www.amazon.fr/MakerFun-Raspberry-Gaming-contr%C3%B4leur-bo%C3%AEtier/dp/B08JLRBM2C/ref=sr_1_27?__mk_fr_FR=%C3%85M%C3%85%C5%BD%C3%95%C3%91&keywords=raspberry+pi+4&qid=1639565532&sr=8-27', 'https://www.amazon.fr/GeeekPi-Raspberry-Alimentation-r%C3%A9initialisation-Refroidisseur/dp/B08MDZ3YXC/ref=sr_1_28?__mk_fr_FR=%C3%85M%C3%85%C5%BD%C3%95%C3%91&keywords=raspberry+pi+4&qid=1639565532&sr=8-28', 'https://www.amazon.fr/gp/slredirect/picassoRedirect.html/ref=pa_sp_mtf_aps_sr_pg1_1?ie=UTF8&adId=A01769701IUDIHI98OF8E&url=%2FFreenove-Raspberry-Processing-Tutorials-Components%2Fdp%2FB06W54L7B5%2Fref%3Dsr_1_29_sspa%3F__mk_fr_FR%3D%25C3%2585M%25C3%2585%25C5%25BD%25C3%2595%25C3%2591%26keywords%3Draspberry%2Bpi%2B4%26qid%3D1639565532%26sr%3D8-29-spons%26psc%3D1&qualifier=1639565532&id=1045359427340679&widgetName=sp_mtf', 'https://www.amazon.fr/gp/slredirect/picassoRedirect.html/ref=pa_sp_mtf_aps_sr_pg1_1?ie=UTF8&adId=A10035513EYTABB50VOUZ&url=%2FAlimentation-Raspberry-Interrupteur-Adaptateur-Chargeur%2Fdp%2FB09JZ38SMN%2Fref%3Dsr_1_30_sspa%3F__mk_fr_FR%3D%25C3%2585M%25C3%2585%25C5%25BD%25C3%2595%25C3%2591%26keywords%3Draspberry%2Bpi%2B4%26qid%3D1639565532%26sr%3D8-30-spons%26psc%3D1&qualifier=1639565532&id=1045359427340679&widgetName=sp_mtf', 'https://www.amazon.fr/gp/slredirect/picassoRedirect.html/ref=pa_sp_mtf_aps_sr_pg1_1?ie=UTF8&adId=A0176814C01WRHKQ43QS&url=%2FFreenove-Raspberry-Processing-Tutorials-Components%2Fdp%2FB06VTH7L28%2Fref%3Dsr_1_31_sspa%3F__mk_fr_FR%3D%25C3%2585M%25C3%2585%25C5%25BD%25C3%2595%25C3%2591%26keywords%3Draspberry%2Bpi%2B4%26qid%3D1639565532%26sr%3D8-31-spons%26psc%3D1&qualifier=1639565532&id=1045359427340679&widgetName=sp_mtf', 'https://www.amazon.fr/ETEPON-Raspberry-Moniteur-Tactile-capacitif/dp/B07X37HMVB/ref=sr_1_32?__mk_fr_FR=%C3%85M%C3%85%C5%BD%C3%95%C3%91&keywords=raspberry+pi+4&qid=1639565532&sr=8-32', 'https://www.amazon.fr/GeeekPi-Ventilateur-Refroidissement-Refroidisseur-dissipateur/dp/B07V35SXMC/ref=sr_1_33?__mk_fr_FR=%C3%85M%C3%85%C5%BD%C3%95%C3%91&keywords=raspberry+pi+4&qid=1639565532&sr=8-33', 'https://www.amazon.fr/GeeekPi-Raspberry-Ventilateur-40X40X10mm-Dissipateurs/dp/B07XCKNM8J/ref=sr_1_34?__mk_fr_FR=%C3%85M%C3%85%C5%BD%C3%95%C3%91&keywords=raspberry+pi+4&qid=1639565532&sr=8-34', 'https://www.amazon.fr/Freenove-Raspberry-Processing-Tutorials-Components/dp/B06W54L7B5/ref=sr_1_35?__mk_fr_FR=%C3%85M%C3%85%C5%BD%C3%95%C3%91&keywords=raspberry+pi+4&qid=1639565532&sr=8-35', 'https://www.amazon.fr/Geekworm-Raspberry-Supply-Adapter-Charging/dp/B09J4V3RYK/ref=sr_1_36?__mk_fr_FR=%C3%85M%C3%85%C5%BD%C3%95%C3%91&keywords=raspberry+pi+4&qid=1639565532&sr=8-36', 'https://www.amazon.fr/GeeekPi-Ventilateur-Alimentation-Micro-HDMI-HDMI-Micro/dp/B07YFVC51C/ref=sr_1_37?__mk_fr_FR=%C3%85M%C3%85%C5%BD%C3%95%C3%91&keywords=raspberry+pi+4&qid=1639565532&sr=8-37', 'https://www.amazon.fr/Raspberry-WIMAXIT-Portable-1024X600IPS-Moniteur/dp/B09373CK49/ref=sr_1_38?__mk_fr_FR=%C3%85M%C3%85%C5%BD%C3%95%C3%91&keywords=raspberry+pi+4&qid=1639565532&sr=8-38', 'https://www.amazon.fr/Bqeel-Alimentation-Interrupteur-Ventilateur-Dissipateur/dp/B07ZCZ9Z6J/ref=sr_1_39?__mk_fr_FR=%C3%85M%C3%85%C5%BD%C3%95%C3%91&keywords=raspberry+pi+4&qid=1639565532&sr=8-39', 'https://www.amazon.fr/Retroflag-Haut-parleurs-r%C3%A9initialisation-Ventilateur-radiateurs/dp/B09M7W2P8W/ref=sr_1_40?__mk_fr_FR=%C3%85M%C3%85%C5%BD%C3%95%C3%91&keywords=raspberry+pi+4&qid=1639565532&sr=8-40', 'https://www.amazon.fr/GeeekPi-Raspberry-Stackable-Ventilateur-4-Couches/dp/B083FP9JRY/ref=sr_1_41?__mk_fr_FR=%C3%85M%C3%85%C5%BD%C3%95%C3%91&keywords=raspberry+pi+4&qid=1639565532&sr=8-41', 'https://www.amazon.fr/BENSN-Raspberry-Ventilateur-Refroidissement-Dissipateur/dp/B083QJBPDN/ref=sr_1_42?__mk_fr_FR=%C3%85M%C3%85%C5%BD%C3%95%C3%91&keywords=raspberry+pi+4&qid=1639565532&sr=8-42', 'https://www.amazon.fr/GeeekPi-m%C3%A9tallique-refroidisseur-horizontal-ventilateur/dp/B085H6GZ69/ref=sr_1_43?__mk_fr_FR=%C3%85M%C3%85%C5%BD%C3%95%C3%91&keywords=raspberry+pi+4&qid=1639565532&sr=8-43', 'https://www.amazon.fr/Tactile-Raspberry-Pouces-Bo%C3%AEtier-Arri%C3%A8re/dp/B08P48TYTS/ref=sr_1_44?__mk_fr_FR=%C3%85M%C3%85%C5%BD%C3%95%C3%91&keywords=raspberry+pi+4&qid=1639565532&sr=8-44', 'https://www.amazon.fr/GeeekPi-Raspberry-Ventilateur-Dissipateur-Acrylique/dp/B07Z4GRQGH/ref=sr_1_45?__mk_fr_FR=%C3%85M%C3%85%C5%BD%C3%95%C3%91&keywords=raspberry+pi+4&qid=1639565532&sr=8-45', 'https://www.amazon.fr/Raspberry-4596-1873425-Source-dAlimentation/dp/B07TMPC9FG/ref=sr_1_46?__mk_fr_FR=%C3%85M%C3%85%C5%BD%C3%95%C3%91&keywords=raspberry+pi+4&qid=1639565532&sr=8-46', 'https://www.amazon.fr/GeeekPi-Raspberry-Horizontal-Refroidisseur-Ventilateur/dp/B07ZV1LLWK/ref=sr_1_47?__mk_fr_FR=%C3%85M%C3%85%C5%BD%C3%95%C3%91&keywords=raspberry+pi+4&qid=1639565532&sr=8-47', 'https://www.amazon.fr/Bruphny-Raspberry-Ventilateur-dalimentation-Dissipateur/dp/B07WKD6Z6T/ref=sr_1_48?__mk_fr_FR=%C3%85M%C3%85%C5%BD%C3%95%C3%91&keywords=raspberry+pi+4&qid=1639565532&sr=8-48', 'https://www.amazon.fr/iuniker-Raspberry-Ventilateur-Refroidissement-dissipateur/dp/B095KD5178/ref=sr_1_49?__mk_fr_FR=%C3%85M%C3%85%C5%BD%C3%95%C3%91&keywords=raspberry+pi+4&qid=1639565532&sr=8-49', 'https://www.amazon.fr/GeeekPi-Raspberry-Ventilateur-dissipateur-dalimentation/dp/B086JXR75B/ref=sr_1_50?__mk_fr_FR=%C3%85M%C3%85%C5%BD%C3%95%C3%91&keywords=raspberry+pi+4&qid=1639565532&sr=8-50', 'https://www.amazon.fr/GeeekPi-Raspberry-Dissipateur-Ventilateur-Refroidissement/dp/B091L1XKL6/ref=sr_1_51?__mk_fr_FR=%C3%85M%C3%85%C5%BD%C3%95%C3%91&keywords=raspberry+pi+4&qid=1639565532&sr=8-51', 'https://www.amazon.fr/Easycargo-Raspberry-Dissipateur-conductivit%C3%A9-refroidissement/dp/B07J5G5ZSW/ref=sr_1_52?__mk_fr_FR=%C3%85M%C3%85%C5%BD%C3%95%C3%91&keywords=raspberry+pi+4&qid=1639565532&sr=8-52', 'https://www.amazon.fr/GeeekPi-Raspberry-routeur-Module-dextension/dp/B09HBRG59N/ref=sr_1_53?__mk_fr_FR=%C3%85M%C3%85%C5%BD%C3%95%C3%91&keywords=raspberry+pi+4&qid=1639565532&sr=8-53', 'https://www.amazon.fr/GeeekPi-Raspberry-Extension-Bouclier-Seulement/dp/B086GST5K6/ref=sr_1_54?__mk_fr_FR=%C3%85M%C3%85%C5%BD%C3%95%C3%91&keywords=raspberry+pi+4&qid=1639565532&sr=8-54', 'https://www.amazon.fr/Geekworm-Raspberry-X825-V2-0-Compatible/dp/B091JSRQ9C/ref=sr_1_55?__mk_fr_FR=%C3%85M%C3%85%C5%BD%C3%95%C3%91&keywords=raspberry+pi+4&qid=1639565532&sr=8-55', 'https://www.amazon.fr/gp/slredirect/picassoRedirect.html/ref=pa_sp_btf_aps_sr_pg1_1?ie=UTF8&adId=A078703238W7ZH52WKY1&url=%2FFreenove-Raspberry-Beginner-Processing-Tutorials%2Fdp%2FB06WD5FTVD%2Fref%3Dsr_1_56_sspa%3F__mk_fr_FR%3D%25C3%2585M%25C3%2585%25C5%25BD%25C3%2595%25C3%2591%26keywords%3Draspberry%2Bpi%2B4%26qid%3D1639565532%26sr%3D8-56-spons%26psc%3D1&qualifier=1639565532&id=1045359427340679&widgetName=sp_btf', 'https://www.amazon.fr/gp/slredirect/picassoRedirect.html/ref=pa_sp_btf_aps_sr_pg1_1?ie=UTF8&adId=A035976714030577TFP51&url=%2FAdeept-quadrup%25C3%25A8de-Raspberry-dexploration-Auto-stabilisant%2Fdp%2FB085CDQ2BB%2Fref%3Dsr_1_57_sspa%3F__mk_fr_FR%3D%25C3%2585M%25C3%2585%25C5%25BD%25C3%2595%25C3%2591%26keywords%3Draspberry%2Bpi%2B4%26qid%3D1639565532%26sr%3D8-57-spons%26psc%3D1&qualifier=1639565532&id=1045359427340679&widgetName=sp_btf', 'https://www.amazon.fr/gp/slredirect/picassoRedirect.html/ref=pa_sp_btf_aps_sr_pg1_1?ie=UTF8&adId=A01120063VEPKIMK26Y92&url=%2FGeeekPi-Raspberry-breadboard-d%25C3%25A9butants-ling%25C3%25A9nieur%2Fdp%2FB09CM397YW%2Fref%3Dsr_1_58_sspa%3F__mk_fr_FR%3D%25C3%2585M%25C3%2585%25C5%25BD%25C3%2595%25C3%2591%26keywords%3Draspberry%2Bpi%2B4%26qid%3D1639565532%26sr%3D8-58-spons%26psc%3D1&qualifier=1639565532&id=1045359427340679&widgetName=sp_btf', 'https://www.amazon.fr/gp/slredirect/picassoRedirect.html/ref=pa_sp_btf_aps_sr_pg1_1?ie=UTF8&adId=A06940341V072H9ALLCC5&url=%2FFreenove-Raspberry-Beginner-Processing-Tutorials%2Fdp%2FB06WP7169Y%2Fref%3Dsr_1_59_sspa%3F__mk_fr_FR%3D%25C3%2585M%25C3%2585%25C5%25BD%25C3%2595%25C3%2591%26keywords%3Draspberry%2Bpi%2B4%26qid%3D1639565532%26sr%3D8-59-spons%26psc%3D1&qualifier=1639565532&id=1045359427340679&widgetName=sp_btf', 'https://www.amazon.fr/gp/slredirect/picassoRedirect.html/ref=pa_sp_btf_aps_sr_pg1_1?ie=UTF8&adId=A036080436KQCQCLGS1AH&url=%2FSunFounder-RasPad-3-0-Raspberry-compatible%2Fdp%2FB08T95BQVD%2Fref%3Dsr_1_60_sspa%3F__mk_fr_FR%3D%25C3%2585M%25C3%2585%25C5%25BD%25C3%2595%25C3%2591%26keywords%3Draspberry%2Bpi%2B4%26qid%3D1639565532%26sr%3D8-60-spons%26psc%3D1&qualifier=1639565532&id=1045359427340679&widgetName=sp_btf']\n"
     ]
    }
   ],
   "source": [
    "for item in items:\n",
    "    name = item.find_element(By.XPATH,'.//span [@class=\"a-size-base-plus a-color-base a-text-normal\"]')\n",
    "    product_name.append(name.text)\n",
    "\n",
    "    data_asin = item.get_attribute(\"data-asin\")\n",
    "    product_asin.append(data_asin)\n",
    "    # find prices\n",
    "    whole_price = item.find_elements(By.XPATH,'.//span[@class=\"a-price-whole\"]')\n",
    "    #fraction_price = item.find_elements(By.XPATH,'.//span[@class=\"a-price-fraction\"]')\n",
    "    #if whole_price != [] and fraction_price != []:\n",
    "    #    price = '.'.join([whole_price[0].text, fraction_price[0].text])\n",
    "    if whole_price != []:\n",
    "        price = '.'.join([whole_price[0].text])\n",
    "    else:\n",
    "        price = 0\n",
    "    product_price.append(price)\n",
    "\n",
    "    # find a ratings box\n",
    "    ratings_box = item.find_elements_by_xpath('.//div[@class=\"a-row a-size-small\"]/span')\n",
    "    if ratings_box != []:\n",
    "        ratings = ratings_box[0].get_attribute('aria-label')\n",
    "        ratings_num = ratings_box[1].get_attribute('aria-label')\n",
    "    else:\n",
    "        ratings, ratings_num = 0, 0\n",
    "    product_ratings.append(ratings)\n",
    "    product_ratings_num.append(str(ratings_num))\n",
    "\n",
    "    link = item.find_element_by_xpath('.//a[@class=\"a-link-normal a-text-normal\"]').get_attribute(\"href\")\n",
    "    product_link.append(link)\n",
    "\n",
    "# to check data scraped\n",
    "print(product_name)\n",
    "print(product_asin)\n",
    "print(product_price)\n",
    "print(product_ratings)\n",
    "print(product_ratings_num)\n",
    "print(product_link)"
   ]
  },
  {
   "cell_type": "markdown",
   "metadata": {},
   "source": [
    "##### Storage de data en liste\n"
   ]
  },
  {
   "cell_type": "code",
   "execution_count": 52,
   "metadata": {},
   "outputs": [],
   "source": [
    "import sqlite3\n",
    "\n",
    "def store_db(product_asin, product_name, product_price, product_ratings, product_ratings_num, product_link):\n",
    "    conn = sqlite3.connect('amazon_search.db')\n",
    "    curr = conn.cursor()\n",
    "\n",
    "    # create table\n",
    "    \n",
    "    curr.execute('''CREATE TABLE IF NOT EXISTS search_result (ASIN text, name text, price real, ratings text, ratings_num text, details_link text)''')\n",
    "    # insert data into a table\n",
    "    curr.executemany(\"INSERT INTO search_result (ASIN, name, price, ratings, ratings_num, details_link) VALUES (?,?,?,?,?,?)\", \n",
    "                    list(zip(product_asin, product_name, product_price, product_ratings, product_ratings_num, product_link)))\n",
    "        \n",
    "    conn.commit()\n",
    "    conn.close()"
   ]
  },
  {
   "cell_type": "code",
   "execution_count": 53,
   "metadata": {},
   "outputs": [],
   "source": [
    "\n",
    "options = webdriver.ChromeOptions()\n",
    "options.add_argument('--headless')\n",
    "\n",
    "keyword = 'raspberry pi 4'\n",
    "next_page = ''"
   ]
  },
  {
   "cell_type": "code",
   "execution_count": 54,
   "metadata": {},
   "outputs": [],
   "source": [
    "def scrape_amazon(keyword, max_pages):\n",
    "\n",
    "    page_number = 1\n",
    "    driver = webdriver.Chrome()\n",
    "    web = 'https://www.amazon.fr/'\n",
    "\n",
    "    options = webdriver.ChromeOptions()\n",
    "    options.add_argument('--headless')\n",
    "\n",
    "    # create a driver object using driver_path as a parameter\n",
    "    driver.get(web)\n",
    "\n",
    "    driver.implicitly_wait(5)\n",
    "    keyword = keyword\n",
    "    search_box = driver.find_element_by_id('twotabsearchtextbox')\n",
    "    search_box.send_keys(keyword)\n",
    "    search_button = driver.find_element_by_id('nav-search-submit-button')\n",
    "    search_button.click()\n",
    "    \n",
    "    driver.implicitly_wait(5)\n",
    "\n",
    "    while page_number <= max_pages:\n",
    "        scrape_page(driver)\n",
    "        driver.get(next_page)\n",
    "        driver.implicitly_wait(5)\n",
    "        page_number += 1\n",
    "    driver.quit()"
   ]
  },
  {
   "cell_type": "code",
   "execution_count": 55,
   "metadata": {},
   "outputs": [],
   "source": [
    "def scrape_page(driver):\n",
    "    \n",
    "    product_name = []\n",
    "    product_asin = []\n",
    "    product_price = []\n",
    "    product_ratings = []\n",
    "    product_ratings_num = []\n",
    "    product_link = []\n",
    "    \n",
    "    items = WebDriverWait(driver,10).until(EC.presence_of_all_elements_located((By.XPATH, '//div[contains(@class, \"s-result-item s-asin\")]')))\n",
    "    for item in items:\n",
    "        name = item.find_element(By.XPATH,'.//span [@class=\"a-size-base-plus a-color-base a-text-normal\"]')\n",
    "        product_name.append(name.text)\n",
    "\n",
    "        data_asin = item.get_attribute(\"data-asin\")\n",
    "        product_asin.append(data_asin)\n",
    "        # find prices\n",
    "        whole_price = item.find_elements(By.XPATH,'.//span[@class=\"a-price-whole\"]')\n",
    "        #fraction_price = item.find_elements(By.XPATH,'.//span[@class=\"a-price-fraction\"]')\n",
    "        #if whole_price != [] and fraction_price != []:\n",
    "        #    price = '.'.join([whole_price[0].text, fraction_price[0].text])\n",
    "        if whole_price != []:\n",
    "            price = '.'.join([whole_price[0].text])\n",
    "        else:\n",
    "            price = 0\n",
    "        product_price.append(price)\n",
    "\n",
    "        # find a ratings box\n",
    "        ratings_box = item.find_elements_by_xpath('.//div[@class=\"a-row a-size-small\"]/span')\n",
    "        if ratings_box != []:\n",
    "            ratings = ratings_box[0].get_attribute('aria-label')\n",
    "            ratings_num = ratings_box[1].get_attribute('aria-label')\n",
    "        else:\n",
    "            ratings, ratings_num = 0, 0\n",
    "        product_ratings.append(ratings)\n",
    "        product_ratings_num.append(str(ratings_num))\n",
    "\n",
    "        link = item.find_element_by_xpath('.//a[@class=\"a-link-normal a-text-normal\"]').get_attribute(\"href\")\n",
    "        product_link.append(link)\n",
    "    # store data from lists to database\n",
    "    global next_page\n",
    "    next_page = driver.find_element(By.XPATH,'//li[@class =\"a-selected\"]/following-sibling::li/a').get_attribute(\"href\")\n",
    "    \n",
    "    store_db(product_asin, product_name, product_price, product_ratings, product_ratings_num, product_link)\n"
   ]
  },
  {
   "cell_type": "code",
   "execution_count": 56,
   "metadata": {},
   "outputs": [
    {
     "name": "stderr",
     "output_type": "stream",
     "text": [
      "/tmp/ipykernel_57036/497490757.py:15: DeprecationWarning: find_element_by_* commands are deprecated. Please use find_element() instead\n",
      "  search_box = driver.find_element_by_id('twotabsearchtextbox')\n",
      "/tmp/ipykernel_57036/497490757.py:17: DeprecationWarning: find_element_by_* commands are deprecated. Please use find_element() instead\n",
      "  search_button = driver.find_element_by_id('nav-search-submit-button')\n",
      "/home/solomoon/Workspace/M2-IOT/projet-scraping/env/lib/python3.8/site-packages/selenium/webdriver/remote/webelement.py:426: UserWarning: find_elements_by_* commands are deprecated. Please use find_elements() instead\n",
      "  warnings.warn(\"find_elements_by_* commands are deprecated. Please use find_elements() instead\")\n",
      "/home/solomoon/Workspace/M2-IOT/projet-scraping/env/lib/python3.8/site-packages/selenium/webdriver/remote/webelement.py:393: UserWarning: find_element_by_* commands are deprecated. Please use find_element() instead\n",
      "  warnings.warn(\"find_element_by_* commands are deprecated. Please use find_element() instead\")\n"
     ]
    }
   ],
   "source": [
    "scrape_amazon(keyword,2)\n"
   ]
  },
  {
   "cell_type": "code",
   "execution_count": 58,
   "metadata": {},
   "outputs": [
    {
     "name": "stdout",
     "output_type": "stream",
     "text": [
      "['4,7 sur 5\\xa0étoiles', '5,0 sur 5\\xa0étoiles', 0, '4,7 sur 5\\xa0étoiles', '4,7 sur 5\\xa0étoiles', '4,7 sur 5\\xa0étoiles', '4,5 sur 5\\xa0étoiles', 0, '4,6 sur 5\\xa0étoiles', '4,7 sur 5\\xa0étoiles', 0, '3,3 sur 5\\xa0étoiles', '4,5 sur 5\\xa0étoiles', '5,0 sur 5\\xa0étoiles', '4,5 sur 5\\xa0étoiles', '4,6 sur 5\\xa0étoiles', '4,5 sur 5\\xa0étoiles', '4,8 sur 5\\xa0étoiles', 0, '4,7 sur 5\\xa0étoiles', '4,4 sur 5\\xa0étoiles', '4,0 sur 5\\xa0étoiles', '4,3 sur 5\\xa0étoiles', '4,6 sur 5\\xa0étoiles', '4,5 sur 5\\xa0étoiles', '5,0 sur 5\\xa0étoiles', '4,2 sur 5\\xa0étoiles', '4,3 sur 5\\xa0étoiles', '4,6 sur 5\\xa0étoiles', '5,0 sur 5\\xa0étoiles', '4,6 sur 5\\xa0étoiles', '3,7 sur 5\\xa0étoiles', '4,7 sur 5\\xa0étoiles', '4,6 sur 5\\xa0étoiles', '4,6 sur 5\\xa0étoiles', 0, '4,3 sur 5\\xa0étoiles', '4,5 sur 5\\xa0étoiles', '4,4 sur 5\\xa0étoiles', 0, '4,5 sur 5\\xa0étoiles', '4,3 sur 5\\xa0étoiles', '4,2 sur 5\\xa0étoiles', '3,8 sur 5\\xa0étoiles', '4,6 sur 5\\xa0étoiles', '4,8 sur 5\\xa0étoiles', '4,7 sur 5\\xa0étoiles', '4,5 sur 5\\xa0étoiles', '3,8 sur 5\\xa0étoiles', '4,6 sur 5\\xa0étoiles', '4,5 sur 5\\xa0étoiles', '4,8 sur 5\\xa0étoiles', 0, '4,4 sur 5\\xa0étoiles', '4,4 sur 5\\xa0étoiles', '4,5 sur 5\\xa0étoiles', '3,9 sur 5\\xa0étoiles', '1,0 sur 5\\xa0étoiles', '4,6 sur 5\\xa0étoiles', '3,8 sur 5\\xa0étoiles']\n"
     ]
    }
   ],
   "source": [
    "print()"
   ]
  }
 ],
 "metadata": {
  "interpreter": {
   "hash": "e74f9301e8ca1a42177b44081739a7d477da0c684009c0716a8ff24b4e79d15b"
  },
  "kernelspec": {
   "display_name": "Python 3.8.10 64-bit ('env': venv)",
   "language": "python",
   "name": "python3"
  },
  "language_info": {
   "codemirror_mode": {
    "name": "ipython",
    "version": 3
   },
   "file_extension": ".py",
   "mimetype": "text/x-python",
   "name": "python",
   "nbconvert_exporter": "python",
   "pygments_lexer": "ipython3",
   "version": "3.8.10"
  },
  "orig_nbformat": 4
 },
 "nbformat": 4,
 "nbformat_minor": 2
}
